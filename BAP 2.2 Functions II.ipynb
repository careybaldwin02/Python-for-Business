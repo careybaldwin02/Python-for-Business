{
 "cells": [
  {
   "cell_type": "markdown",
   "metadata": {},
   "source": [
    "## This lesson will extend the operations we can do with functions\n",
    "We will build on the tools we developed last class in order to construct more complex functions that implement conditional statements and iteration.  "
   ]
  },
  {
   "cell_type": "markdown",
   "metadata": {},
   "source": [
    "#### 2.2.1 Functions with if statements\n",
    "It is common to see functions that perform actions based on prescribed conditions."
   ]
  },
  {
   "cell_type": "markdown",
   "metadata": {},
   "source": [
    "#### Example:  \n"
   ]
  },
  {
   "cell_type": "code",
   "execution_count": 9,
   "metadata": {},
   "outputs": [
    {
     "name": "stdout",
     "output_type": "stream",
     "text": [
      "5 is in the range\n"
     ]
    }
   ],
   "source": [
    "def test_range(n):\n",
    "    if n in range(3,9):\n",
    "        print( n, \"is in the range\")\n",
    "    else:\n",
    "        print(\"The number is outside the given range.\")\n",
    "test_range(5)"
   ]
  },
  {
   "cell_type": "markdown",
   "metadata": {},
   "source": [
    "#### Exercise: \n",
    "Write a function called check_length that takes in two strings.  If those strings are the same length, return True, otherwise return False and print the number of characters difference between the two strings. "
   ]
  },
  {
   "cell_type": "code",
   "execution_count": 10,
   "metadata": {},
   "outputs": [
    {
     "name": "stdout",
     "output_type": "stream",
     "text": [
      "the string lengths differ by 1 character\n"
     ]
    },
    {
     "data": {
      "text/plain": [
       "True"
      ]
     },
     "execution_count": 10,
     "metadata": {},
     "output_type": "execute_result"
    }
   ],
   "source": [
    "def check_length(str1, str2):\n",
    "    if len(str1)==len(str2):\n",
    "        return True\n",
    "    else:\n",
    "        diff=abs(len(str1)-len(str2))\n",
    "        print(\"the string lengths differ by\", diff, \"character\")  \n",
    "    \n",
    "check_length('hello', 'friend')\n",
    "check_length('five', 'five')"
   ]
  },
  {
   "cell_type": "markdown",
   "metadata": {},
   "source": [
    "#### 2.2.2 Functions with iteration\n",
    "We frequently use iteration as part of functions for example:"
   ]
  },
  {
   "cell_type": "markdown",
   "metadata": {},
   "source": [
    "#### Example\n"
   ]
  },
  {
   "cell_type": "code",
   "execution_count": 19,
   "metadata": {},
   "outputs": [
    {
     "name": "stdout",
     "output_type": "stream",
     "text": [
      "False\n",
      "False\n",
      "False\n"
     ]
    }
   ],
   "source": []
  },
  {
   "cell_type": "markdown",
   "metadata": {},
   "source": [
    "#### Exercise\n",
    "Extend the function above to sort the list if it is unsorted. "
   ]
  },
  {
   "cell_type": "code",
   "execution_count": 18,
   "metadata": {},
   "outputs": [
    {
     "name": "stdout",
     "output_type": "stream",
     "text": [
      "None\n",
      "[1, 4, 3, 5, 2]\n",
      "None\n"
     ]
    }
   ],
   "source": []
  },
  {
   "cell_type": "markdown",
   "metadata": {},
   "source": [
    "#### 2.2.3 debugging functions\n",
    "A function can seem like a black box sometimes.  When errors happen, programmers often have to break down their functions in order to find out where it is failing.  We can do this by adding in print statements.  "
   ]
  },
  {
   "cell_type": "code",
   "execution_count": null,
   "metadata": {},
   "outputs": [],
   "source": []
  },
  {
   "cell_type": "markdown",
   "metadata": {},
   "source": [
    "Another useful tool for debugging is the [python tutor](http://pythontutor.com/visualize.html#mode=edit) which allows us to step through a program to determine the breakdown. "
   ]
  },
  {
   "cell_type": "markdown",
   "metadata": {},
   "source": [
    "#### 2.2.4 More sophisticated Functions - Some Examples\n",
    "We can use functions to combine multiple operations and build programs that are extremely powerful and versatile.  Below we work through several examples."
   ]
  },
  {
   "cell_type": "markdown",
   "metadata": {},
   "source": [
    "#### Example:\n"
   ]
  },
  {
   "cell_type": "markdown",
   "metadata": {},
   "source": [
    "#### Exercise\n"
   ]
  },
  {
   "cell_type": "markdown",
   "metadata": {},
   "source": [
    "#### 2.2.5 Functions with functions as arguments\n",
    "\n"
   ]
  },
  {
   "cell_type": "code",
   "execution_count": 11,
   "metadata": {},
   "outputs": [
    {
     "name": "stdout",
     "output_type": "stream",
     "text": [
      "7\n",
      "4\n"
     ]
    }
   ],
   "source": [
    "def order_by(a, b, order):\n",
    "    return order(a,b)\n",
    "    \n",
    "print(order_by(4, 7, max))\n",
    "print(order_by(4, 7, min))"
   ]
  },
  {
   "cell_type": "code",
   "execution_count": null,
   "metadata": {},
   "outputs": [],
   "source": []
  }
 ],
 "metadata": {
  "kernelspec": {
   "display_name": "Python 3",
   "language": "python",
   "name": "python3"
  },
  "language_info": {
   "codemirror_mode": {
    "name": "ipython",
    "version": 3
   },
   "file_extension": ".py",
   "mimetype": "text/x-python",
   "name": "python",
   "nbconvert_exporter": "python",
   "pygments_lexer": "ipython3",
   "version": "3.7.1"
  }
 },
 "nbformat": 4,
 "nbformat_minor": 2
}
