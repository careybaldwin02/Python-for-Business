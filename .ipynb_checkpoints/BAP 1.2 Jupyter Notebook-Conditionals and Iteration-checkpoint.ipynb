{
 "cells": [
  {
   "cell_type": "markdown",
   "metadata": {},
   "source": [
    "# Conditional Statements"
   ]
  },
  {
   "cell_type": "markdown",
   "metadata": {},
   "source": [
    "Write a program that handles a temperature as an input and decides how to respond based on the value of the temperature.  If it is 90 degrees or more, print \"I'm going swimming\", if it is 30 degrees or less, print \"I'm going sledding\"."
   ]
  },
  {
   "cell_type": "code",
   "execution_count": null,
   "metadata": {},
   "outputs": [],
   "source": [
    "## set the starting temperature \n",
    "temp=42\n",
    "if temp>=90:\n",
    "  print(\"I'm going swimming\")\n",
    "if temp<=30:\n",
    "  print(\"I'm going sledding\")"
   ]
  },
  {
   "cell_type": "markdown",
   "metadata": {},
   "source": [
    "Notice that nothing happens when the input temperature is 42.  We haven't handled this case.  Let's make a couple of modifications:"
   ]
  },
  {
   "cell_type": "code",
   "execution_count": null,
   "metadata": {},
   "outputs": [],
   "source": [
    "# We can set up a variable input using the input function:\n",
    "input(\"Enter a value: \")"
   ]
  },
  {
   "cell_type": "markdown",
   "metadata": {},
   "source": [
    "Notice that the result of entering a number yields a string, our program needs to take in an integer, so we need to specify an integer input."
   ]
  },
  {
   "cell_type": "code",
   "execution_count": null,
   "metadata": {},
   "outputs": [],
   "source": [
    "temp=int(input(\"Enter a temperature: \"))\n",
    "if temp>=90:\n",
    "  print(\"I'm going swimming\")\n",
    "if temp<=30:\n",
    "  print(\"I'm going sledding\")"
   ]
  },
  {
   "cell_type": "markdown",
   "metadata": {},
   "source": [
    "Next, we should modify the program to handle cases outside the 90 and 30 degree boundaries.  "
   ]
  },
  {
   "cell_type": "code",
   "execution_count": null,
   "metadata": {},
   "outputs": [],
   "source": [
    "temp = int(input(\"enter a temperature: \"))\n",
    "if temp>=90:\n",
    "  print(\"I'm going swimming\")\n",
    "elif temp<=30:\n",
    "  print(\"I'm going sledding\")\n",
    "else:\n",
    "  print(\"I'm going for a bike ride\")"
   ]
  },
  {
   "cell_type": "markdown",
   "metadata": {},
   "source": [
    "Write a program that takes in two integer values as inputs.  Write some code to do the following:  If x is divisible by y, print (value of x) is divisible by (value of y).  If x is not divisible by y, print (value of x) is not divisible by (value of y)"
   ]
  },
  {
   "cell_type": "code",
   "execution_count": null,
   "metadata": {},
   "outputs": [],
   "source": [
    "x=int(input(\"Enter an integer: \"))\n",
    "y=int(input(\"Enter a second integer: \"))\n",
    "if x%y==0:\n",
    "  print(x, \"is divisible by\", y)\n",
    "else:\n",
    "  print(x, \"is not divisible by\", y)"
   ]
  },
  {
   "cell_type": "markdown",
   "metadata": {},
   "source": [
    "Exercise: Write a program to check if an integer input is even or odd.  If even, print \"(number) is an even number\", if odd, print \"(number) is an odd number\""
   ]
  },
  {
   "cell_type": "code",
   "execution_count": null,
   "metadata": {},
   "outputs": [],
   "source": [
    "num=int(input(\"Enter an integer: \"))\n",
    "if num%2==0:\n",
    "    print(num, \"is an even number\")\n",
    "else:\n",
    "    print(num, \"is an odd number\")"
   ]
  },
  {
   "cell_type": "markdown",
   "metadata": {},
   "source": [
    "Write a program that takes in a starting yearly account balance and an ending yearly account balance for a company.  If the percent increase is more than 20%, print, \"the account balance has increased by (amount of increase)\".  If the percent decrease exceeds 10%, print, \"the account balance has decreased by (amount of decrease)\".  Otherwise print \"No action is required at this time\"."
   ]
  },
  {
   "cell_type": "code",
   "execution_count": null,
   "metadata": {},
   "outputs": [],
   "source": [
    "start=float(input(\"Enter starting account balance: \"))\n",
    "end=float(input(\"Enter ending account balance: \"))\n",
    "\n",
    "if end>1.2*start:\n",
    "  print(\"The account has increased by\", ((end-start)/start)*100,\"%\") \n",
    "elif end<.9*start:\n",
    "  print(\"The account has decreased by\", ((start-end)/start)*100,\"%\")\n",
    "else:\n",
    "  print(\"No action is required at this time\")"
   ]
  },
  {
   "cell_type": "markdown",
   "metadata": {},
   "source": [
    "Exercise: Write a program to take in two inputs -- the purchase price of a stock and the current price.  If the current price is less than 90% of the purchase price, print \"sell the stock to stop loss, you have lost (amount) dollars\".  If the current price is more than 20% higher than the than the purchase price, print \"sell the stock to make a profit, you have lost (amount) dollars\".  Otherwise print, \"no action is required.\"   "
   ]
  },
  {
   "cell_type": "code",
   "execution_count": null,
   "metadata": {},
   "outputs": [],
   "source": [
    "purchase_price = float(input(\"Enter the purchase price of the stock: \"))\n",
    "price_now = float(input(\"Enter the current price of the stock: \"))\n",
    "if price_now < purchase_price * .9:\n",
    "    print(\"Sell the stock to stop loss, you have lost\", purchase_price-price_now, \"dollars per share\")\n",
    "elif price_now > purchase_price * 1.2:\n",
    "    print(\"Sell the stock to make a profit\", price_now-purchase_price, \"dollars per share\")\n",
    "else:\n",
    "    print(\"No action is required\")"
   ]
  },
  {
   "cell_type": "markdown",
   "metadata": {},
   "source": [
    "# Iteration with Definite Loops"
   ]
  },
  {
   "cell_type": "markdown",
   "metadata": {},
   "source": [
    "Programmers use loops to execute a sequence of statements several times in succession.  The simplest kind of loop is called a definite loop.  This is a loop that will execute a definite number of times.  "
   ]
  },
  {
   "cell_type": "code",
   "execution_count": null,
   "metadata": {},
   "outputs": [],
   "source": [
    "# multiply every value in the range 0 to 10 by 10 and print the result\n",
    "for i in range(10):\n",
    "    x=10*i\n",
    "    print(x)"
   ]
  },
  {
   "cell_type": "markdown",
   "metadata": {},
   "source": [
    "What happens if we remove the indent for the print function?"
   ]
  },
  {
   "cell_type": "code",
   "execution_count": null,
   "metadata": {},
   "outputs": [],
   "source": [
    "# multiply every value in the range 0 to 10 by 10 and print the result\n",
    "for i in range(10):\n",
    "    x=10*i\n",
    "print(x)"
   ]
  },
  {
   "cell_type": "code",
   "execution_count": null,
   "metadata": {},
   "outputs": [],
   "source": [
    "# using a list as an input\n",
    "things=[1, 2, 3, 4, 5]\n",
    "for thing in things:\n",
    "  print(thing+2)"
   ]
  },
  {
   "cell_type": "code",
   "execution_count": null,
   "metadata": {
    "scrolled": true
   },
   "outputs": [],
   "source": [
    "# accessing each character in a string\n",
    "str='abcdefg'\n",
    "for i in str:\n",
    "    print(i)"
   ]
  },
  {
   "cell_type": "markdown",
   "metadata": {},
   "source": [
    "Let's write a somewhat more sophisticated program to calculate the future value of the principal on an investment after 10 years at a given rate (apr).\n",
    "\n",
    "- Program: Future Value\n",
    "\n",
    "- Inputs:  \n",
    "- principal - the amount of money being invested in dollars.\n",
    "- apr - the annual percentage rate expressed as a decimal number.\n",
    "\n",
    "- Output:  The value of the investment 10 years into the future.\n",
    "\n",
    "- Relationship:  Value after one year is given by *principal(1+apr)*.  This formula needs to be applied 10 times."
   ]
  },
  {
   "cell_type": "code",
   "execution_count": null,
   "metadata": {},
   "outputs": [],
   "source": [
    "principal=float(input(\"Enter the amount of the initial principal: \"))\n",
    "apr=float(input(\"Enter the annual interest rate\"))\n",
    "for i in range(10):\n",
    "    principal=principal*(1+apr)\n",
    "print(\"The value after 10 years is: \", principal)"
   ]
  },
  {
   "cell_type": "markdown",
   "metadata": {},
   "source": [
    "We can combine the methods of conditioning and iteration in order to create powerful programs.  We'll modify the program we used earlier to make decisions about stock prices. "
   ]
  },
  {
   "cell_type": "code",
   "execution_count": null,
   "metadata": {},
   "outputs": [],
   "source": [
    "purchase_price=7\n",
    "prices_list=[3,5,12,10,6,14,7]\n",
    "profit=0\n",
    "loss=0\n",
    "even=0\n",
    "for price in prices_list:\n",
    "    if price < purchase_price * .9:\n",
    "        loss+=purchase_price-price\n",
    "    elif price > purchase_price * 1.2:\n",
    "        profit+=price-purchase_price\n",
    "    else:\n",
    "        even+=1\n",
    "print(\"You have made a profit of $\",profit, \"and lost $\",loss, \"you broke even\", even, \"time(s)\")"
   ]
  },
  {
   "cell_type": "markdown",
   "metadata": {},
   "source": [
    "Exercise:  A house is listed for sale at a price of $360,000.  Write a program that takes in a list of offers (integers) and counts the number of offers that are either equal-to/above or below asking price.  Print a final statement that communicates how many offers are above asking price and how many are below asking price.   "
   ]
  },
  {
   "cell_type": "code",
   "execution_count": null,
   "metadata": {},
   "outputs": [],
   "source": [
    "asking_price=36000\n",
    "offers=[40000, 32000, 34000, 35000, 37200]\n",
    "above=0\n",
    "below=0\n",
    "for offer in offers:\n",
    "    if offer>=asking_price:\n",
    "        above+=1\n",
    "    else:\n",
    "        below+=1\n",
    "print(above, \"offers are equal to or greater than the asking price and\", below, \"offers are below\" )"
   ]
  }
 ],
 "metadata": {
  "kernelspec": {
   "display_name": "Python 3",
   "language": "python",
   "name": "python3"
  },
  "language_info": {
   "codemirror_mode": {
    "name": "ipython",
    "version": 3
   },
   "file_extension": ".py",
   "mimetype": "text/x-python",
   "name": "python",
   "nbconvert_exporter": "python",
   "pygments_lexer": "ipython3",
   "version": "3.7.1"
  }
 },
 "nbformat": 4,
 "nbformat_minor": 2
}
