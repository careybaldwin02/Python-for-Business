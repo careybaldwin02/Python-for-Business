{
 "cells": [
  {
   "cell_type": "markdown",
   "metadata": {},
   "source": [
    "## This lesson introduces functions in python and provides several examples."
   ]
  },
  {
   "cell_type": "markdown",
   "metadata": {},
   "source": [
    "### Warm-up and Exercises\n",
    "[Replit Coding Warm-up and Exercises](https://repl.it/@careybaldwin/BAP-21-Exercises?language=python3&folderId=20cc2382-84ed-44e1-ade0-f27dbd48a562)"
   ]
  },
  {
   "cell_type": "markdown",
   "metadata": {},
   "source": [
    "### References\n",
    "\n",
    "[A Practical Introduction to Python Programming](https://www.brianheinold.net/python/A_Practical_Introduction_to_Python_Programming_Heinold.pdf)\n",
    "\n",
    "[Markdown Syntax](https://help.github.com/en/articles/basic-writing-and-formatting-syntax#quoting-code)"
   ]
  },
  {
   "cell_type": "markdown",
   "metadata": {},
   "source": [
    "### Objectives\n",
    "- Be able to build basic functions in python and understand the syntax\n",
    "- Understand the return statement and know how to use it\n",
    "- Be able to import modules and individual functions from modules\n",
    "- Be able to use functions within other functions\n",
    "- Learn to use default arguments and understand ordering\n",
    "- Understand the difference between local and Global Variables"
   ]
  },
  {
   "cell_type": "markdown",
   "metadata": {},
   "source": [
    "### Videos\n",
    "- [intro to functions](https://youtu.be/-fBkBVo2iTc)\n",
    "- [return statements in functions](https://youtu.be/6u_d4nL3xwI)\n",
    "- [importing functions](https://youtu.be/xi7VYG4BN6s)\n",
    "- [default arguments](https://youtu.be/bUAaZFG7uQk)"
   ]
  },
  {
   "cell_type": "markdown",
   "metadata": {},
   "source": [
    "### 2.1 Functions in Python\n",
    "\n",
    "We have seen many functions that have been built into python, such as print(), find() etc.  Functions allow us to make our code reusable.  It is also helpful to use functions to break up program so that it is easier to read and maintain. "
   ]
  },
  {
   "cell_type": "markdown",
   "metadata": {},
   "source": [
    "#### 2.1.1 Basics \n",
    "\n",
    "When we build our own function, it is defined with the def statement, then we give the function a name and end the statement with a colon.\n",
    "```\n",
    "def function_name():\n",
    "```\n",
    "When we give a function a name, we are adding that name to the namespace of the program we are building.  The namespace is the collection of recognized identifiers. \n",
    "\n",
    "A function can be as basic as printing something:"
   ]
  },
  {
   "cell_type": "code",
   "execution_count": null,
   "metadata": {},
   "outputs": [],
   "source": [
    "def say_hello():\n",
    "    print(\"Hello, how are you?\")"
   ]
  },
  {
   "cell_type": "markdown",
   "metadata": {},
   "source": [
    "When we want to use the function we “call” or “invoke” the function like so:"
   ]
  },
  {
   "cell_type": "code",
   "execution_count": null,
   "metadata": {},
   "outputs": [],
   "source": [
    "say_hello()"
   ]
  },
  {
   "cell_type": "markdown",
   "metadata": {},
   "source": [
    "#### 2.1.2 Arguments\n",
    "\n",
    "A function like this has no parameters specified (nothing in the parentheses), but we can write a function in such a way to accept one or more parameters.  We give parameters a name when building the function and allow the user to specify a value when calling the function. "
   ]
  },
  {
   "cell_type": "code",
   "execution_count": null,
   "metadata": {},
   "outputs": [],
   "source": [
    "def say_hello(name):\n",
    "    print(\"Hello\", name,\"how are you?\")"
   ]
  },
  {
   "cell_type": "markdown",
   "metadata": {},
   "source": [
    "Call the function:"
   ]
  },
  {
   "cell_type": "code",
   "execution_count": null,
   "metadata": {},
   "outputs": [],
   "source": [
    "say_hello('Howard')"
   ]
  },
  {
   "cell_type": "markdown",
   "metadata": {},
   "source": [
    "#### 2.1.3 Returning Values\n",
    "\n",
    "The return statement can be used to send the result of the function’s calculations back to the caller.  We see this in functions that perform calculations.  It is often advantageous to have a the value returned by a function accessible throughout the program. "
   ]
  },
  {
   "cell_type": "markdown",
   "metadata": {},
   "source": [
    "A function to convert a temperature from celsius to Fahrenheit."
   ]
  },
  {
   "cell_type": "code",
   "execution_count": null,
   "metadata": {},
   "outputs": [],
   "source": [
    "def convert(temp):\n",
    "    return temp*9/5+32\n",
    "\n",
    "print(convert(20))"
   ]
  },
  {
   "cell_type": "markdown",
   "metadata": {},
   "source": [
    "Because we returned a value, we can reference the function and combine it with other operations like so."
   ]
  },
  {
   "cell_type": "code",
   "execution_count": null,
   "metadata": {},
   "outputs": [],
   "source": [
    "convert(20)+10"
   ]
  },
  {
   "cell_type": "markdown",
   "metadata": {},
   "source": [
    "If no return statement, python returns None"
   ]
  },
  {
   "cell_type": "code",
   "execution_count": null,
   "metadata": {},
   "outputs": [],
   "source": [
    "def convert(temp):\n",
    "    # missing return statement\n",
    "    temp*9/5+32\n",
    "    \n",
    "print(convert(20))"
   ]
  },
  {
   "cell_type": "markdown",
   "metadata": {},
   "source": [
    "We can return multiple values form a function.  Write a function that returns the first and last character of a string."
   ]
  },
  {
   "cell_type": "code",
   "execution_count": null,
   "metadata": {},
   "outputs": [],
   "source": [
    "def first_last(str):\n",
    "    return str[0],str[-1]\n",
    "\n",
    "first_last('abcdefg')"
   ]
  },
  {
   "cell_type": "markdown",
   "metadata": {},
   "source": [
    "Write a function that add up the digits of a three digit integer and returns the result."
   ]
  },
  {
   "cell_type": "code",
   "execution_count": null,
   "metadata": {},
   "outputs": [],
   "source": [
    "def add_digits(num):\n",
    "    string=str(num)\n",
    "    sum=int(string[0])+int(string[1])+int(string[2])\n",
    "    print(\"adding the digits of\", num, \"yields\", sum)\n",
    "    return sum\n",
    "   \n",
    "add_digits(123)"
   ]
  },
  {
   "cell_type": "markdown",
   "metadata": {},
   "source": [
    "#### Exercise 1\n",
    "\n",
    "Write a function that takes in a name and hometown argument (both strings) and prints a statement that says \"Hello, my name is (name) and I am from (hometown)\""
   ]
  },
  {
   "cell_type": "code",
   "execution_count": null,
   "metadata": {},
   "outputs": [],
   "source": [
    "# code here:  \n"
   ]
  },
  {
   "cell_type": "markdown",
   "metadata": {},
   "source": [
    "#### Exercise 2\n",
    "Write a function that accepts a start_price and an end_price and returns the percent increase using the relationship \n",
    "```\n",
    "(start_price-end_price)/start_price*100\n",
    "```"
   ]
  },
  {
   "cell_type": "code",
   "execution_count": null,
   "metadata": {},
   "outputs": [],
   "source": [
    "# code here: \n"
   ]
  },
  {
   "cell_type": "markdown",
   "metadata": {},
   "source": [
    "#### 2.1.4 Importing Functions\n",
    "\n",
    "Importing Functions: Python has a multitude of functions available for import. Here are some ways we can do this with the math module which will give us access to a collection of functions."
   ]
  },
  {
   "cell_type": "code",
   "execution_count": null,
   "metadata": {},
   "outputs": [],
   "source": [
    "# import the math module into our program\n",
    "import math \n",
    "# try the sqrt function\n",
    "math.sqrt(81) # we need to provide a reference to the module (disambiguate)"
   ]
  },
  {
   "cell_type": "code",
   "execution_count": null,
   "metadata": {},
   "outputs": [],
   "source": [
    "# import the math module into our program but give it the name 'm' (m is now an alias for math)\n",
    "import math as m\n",
    "# this makes it a little easier to reference the math module\n",
    "m.sqrt(81)"
   ]
  },
  {
   "cell_type": "code",
   "execution_count": null,
   "metadata": {},
   "outputs": [],
   "source": [
    "# import the sqrt function into our program (this only pulls in the one function)\n",
    "from math import sqrt\n",
    "# We do not need to reference the module that holds this function\n",
    "sqrt(81)"
   ]
  },
  {
   "cell_type": "markdown",
   "metadata": {},
   "source": [
    "#### 2.1.5 Combining Functions\n",
    "\n",
    "We can use imported or user-defined functions within other functions.  This is very useful for breaking down your program into manageable pieces."
   ]
  },
  {
   "cell_type": "code",
   "execution_count": 26,
   "metadata": {},
   "outputs": [],
   "source": [
    "# import a module to calculate some statistical values\n",
    "from statistics import mean, median, mode"
   ]
  },
  {
   "cell_type": "markdown",
   "metadata": {},
   "source": [
    "Write a function that returns measures of central tendency for a list of data values."
   ]
  },
  {
   "cell_type": "code",
   "execution_count": 27,
   "metadata": {},
   "outputs": [
    {
     "name": "stdout",
     "output_type": "stream",
     "text": [
      "Mean, Median, Mode:  (7.125, 4.0, 3)\n"
     ]
    }
   ],
   "source": [
    "def summary(num_list):\n",
    "    return mean(num_list), median(num_list), mode(num_list)\n",
    "\n",
    "print(\"Mean, Median, Mode: \", summary([2,5,3,3,3,16,7,18]))"
   ]
  },
  {
   "cell_type": "markdown",
   "metadata": {},
   "source": [
    "#### 2.1.6 Default Arguments"
   ]
  },
  {
   "cell_type": "markdown",
   "metadata": {},
   "source": [
    "You can specify a default value for an argument. This makes it optional, and if the caller decides not to use it, then it takes the default value. Here is an example:"
   ]
  },
  {
   "cell_type": "markdown",
   "metadata": {},
   "source": [
    "The default number is specified as 123.  If the user fails to input a number to the function, the number 123 will be used. "
   ]
  },
  {
   "cell_type": "code",
   "execution_count": 29,
   "metadata": {},
   "outputs": [
    {
     "name": "stdout",
     "output_type": "stream",
     "text": [
      "adding the digits of 345 yields 12\n"
     ]
    },
    {
     "data": {
      "text/plain": [
       "12"
      ]
     },
     "execution_count": 29,
     "metadata": {},
     "output_type": "execute_result"
    }
   ],
   "source": [
    "def add_digits(num=123):\n",
    "    string=str(num)\n",
    "    sum=int(string[0])+int(string[1])+int(string[2])\n",
    "    print(\"adding the digits of\", num, \"yields\", sum)\n",
    "    return sum\n",
    "   \n",
    "add_digits(345)"
   ]
  },
  {
   "cell_type": "markdown",
   "metadata": {},
   "source": [
    "Another example"
   ]
  },
  {
   "cell_type": "code",
   "execution_count": 31,
   "metadata": {},
   "outputs": [
    {
     "data": {
      "text/plain": [
       "False"
      ]
     },
     "execution_count": 31,
     "metadata": {},
     "output_type": "execute_result"
    }
   ],
   "source": [
    "def divisible(dividend=45, divisor=5):\n",
    "    if dividend%divisor ==0:\n",
    "        return True\n",
    "    else:\n",
    "        return False\n",
    "    \n",
    "divisible(36,5)"
   ]
  },
  {
   "cell_type": "markdown",
   "metadata": {},
   "source": [
    "##### Ordering Arguments\n",
    "\n",
    "We either have to input the values in the correct order or reference them by name when calling the function."
   ]
  },
  {
   "cell_type": "code",
   "execution_count": 32,
   "metadata": {},
   "outputs": [
    {
     "name": "stdout",
     "output_type": "stream",
     "text": [
      "True\n",
      "True\n",
      "False\n"
     ]
    }
   ],
   "source": [
    "# specify values in order\n",
    "print(divisible(36,6))\n",
    "\n",
    "# name the values when inputting\n",
    "print(divisible(divisor=6, dividend=36))\n",
    "\n",
    "# this one won't work as intended\n",
    "print(divisible(6,36))"
   ]
  },
  {
   "cell_type": "markdown",
   "metadata": {},
   "source": [
    "#### Exercise 3\n",
    "\n",
    "Write a function that calculates the value of the principal invested at a given percentage rate after a specified time frame.  The function should take in three arguments: principal (float), apr (float), time (int).  Use the relationship principal=principal*(1+apr).  (hint: we will need to use a for loop to repeat the process each year)."
   ]
  },
  {
   "cell_type": "code",
   "execution_count": null,
   "metadata": {},
   "outputs": [],
   "source": [
    "# code here"
   ]
  },
  {
   "cell_type": "markdown",
   "metadata": {},
   "source": [
    "#### 2.1.7 Local and Global Variables\n",
    "\n",
    "Let’s say we have two functions like the ones below that each use a variable i:"
   ]
  },
  {
   "cell_type": "code",
   "execution_count": null,
   "metadata": {},
   "outputs": [],
   "source": [
    "def func1():\n",
    "    for i in range(10):\n",
    "        print(i)\n",
    "\n",
    "print(func1())\n",
    "\n",
    "def func2():\n",
    "    i=100\n",
    "    func1()\n",
    "    print(i)\n",
    "\n",
    "print(func2())"
   ]
  },
  {
   "cell_type": "markdown",
   "metadata": {},
   "source": [
    "A problem that could arise here is that when we call func1, we might mess up the value of i in func2. In a large program it would be a nightmare trying to make sure that we don’t repeat variable names in different functions, and, fortunately, we don’t have to worry about this. When a variable is defined inside a function, it is local to that function, which means it essentially does not exist outside that function. This way each function can define its own variables and not have to worry about if those variable names are used in other functions."
   ]
  },
  {
   "cell_type": "markdown",
   "metadata": {},
   "source": [
    "Global variables On the other hand, sometimes you actually do want the same variable to be available to multiple functions. Such a variable is called a global variable. You have to be careful using global variables, especially in larger programs, but a few global variables used judiciously are fine in smaller programs. Here is a short example:"
   ]
  },
  {
   "cell_type": "code",
   "execution_count": null,
   "metadata": {},
   "outputs": [],
   "source": [
    "def reset():\n",
    "    global time_left\n",
    "    time_left = 0\n",
    "\n",
    "def print_time():\n",
    "    print(time_left) \n",
    "    time_left=30"
   ]
  },
  {
   "cell_type": "markdown",
   "metadata": {},
   "source": [
    "In this program we have a variable time_left that we would like multiple functions to have access to. If a function wants to change the value of that variable, we need to tell the function that time_left is a global variable. We use a global statement in the function to do this. On the other hand, if we just want to use the value of the global variable, we do not need a global statement."
   ]
  }
 ],
 "metadata": {
  "kernelspec": {
   "display_name": "Python 3",
   "language": "python",
   "name": "python3"
  },
  "language_info": {
   "codemirror_mode": {
    "name": "ipython",
    "version": 3
   },
   "file_extension": ".py",
   "mimetype": "text/x-python",
   "name": "python",
   "nbconvert_exporter": "python",
   "pygments_lexer": "ipython3",
   "version": "3.7.1"
  }
 },
 "nbformat": 4,
 "nbformat_minor": 2
}
